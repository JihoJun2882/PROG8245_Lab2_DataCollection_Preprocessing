{
 "cells": [
  {
   "cell_type": "markdown",
   "id": "9623dde4",
   "metadata": {},
   "source": [
    "### #Step 1 - Hello,Data!\n",
    "Load raw CSV (using only 500rows), display first 3 rows"
   ]
  },
  {
   "cell_type": "code",
   "execution_count": 1,
   "id": "b95cf716",
   "metadata": {},
   "outputs": [
    {
     "name": "stdout",
     "output_type": "stream",
     "text": [
      "(500, 14)\n",
      "Region             object\n",
      "Country            object\n",
      "Item Type          object\n",
      "Sales Channel      object\n",
      "Order Priority     object\n",
      "Order Date         object\n",
      "Order ID            int64\n",
      "Ship Date          object\n",
      "Units Sold          int64\n",
      "Unit Price        float64\n",
      "Unit Cost         float64\n",
      "Total Revenue     float64\n",
      "Total Cost        float64\n",
      "Total Profit      float64\n",
      "dtype: object\n"
     ]
    },
    {
     "data": {
      "application/vnd.microsoft.datawrangler.viewer.v0+json": {
       "columns": [
        {
         "name": "index",
         "rawType": "int64",
         "type": "integer"
        },
        {
         "name": "Region",
         "rawType": "object",
         "type": "string"
        },
        {
         "name": "Country",
         "rawType": "object",
         "type": "string"
        },
        {
         "name": "Item Type",
         "rawType": "object",
         "type": "string"
        },
        {
         "name": "Sales Channel",
         "rawType": "object",
         "type": "string"
        },
        {
         "name": "Order Priority",
         "rawType": "object",
         "type": "string"
        },
        {
         "name": "Order Date",
         "rawType": "object",
         "type": "string"
        },
        {
         "name": "Order ID",
         "rawType": "int64",
         "type": "integer"
        },
        {
         "name": "Ship Date",
         "rawType": "object",
         "type": "string"
        },
        {
         "name": "Units Sold",
         "rawType": "int64",
         "type": "integer"
        },
        {
         "name": "Unit Price",
         "rawType": "float64",
         "type": "float"
        },
        {
         "name": "Unit Cost",
         "rawType": "float64",
         "type": "float"
        },
        {
         "name": "Total Revenue",
         "rawType": "float64",
         "type": "float"
        },
        {
         "name": "Total Cost",
         "rawType": "float64",
         "type": "float"
        },
        {
         "name": "Total Profit",
         "rawType": "float64",
         "type": "float"
        }
       ],
       "ref": "b96cb327-0337-462f-8306-8dc14f61ee3e",
       "rows": [
        [
         "0",
         "Middle East and North Africa",
         "Libya",
         "Cosmetics",
         "Offline",
         "M",
         "10/18/2014",
         "686800706",
         "10/31/2014",
         "8446",
         "437.2",
         "263.33",
         "3692591.2",
         "2224085.18",
         "1468506.02"
        ],
        [
         "1",
         "North America",
         "Canada",
         "Vegetables",
         "Online",
         "M",
         "11/7/2011",
         "185941302",
         "12/8/2011",
         "3018",
         "154.06",
         "90.93",
         "464953.08",
         "274426.74",
         "190526.34"
        ],
        [
         "2",
         "Middle East and North Africa",
         "Libya",
         "Baby Food",
         "Offline",
         "C",
         "10/31/2016",
         "246222341",
         "12/9/2016",
         "1517",
         "255.28",
         "159.42",
         "387259.76",
         "241840.14",
         "145419.62"
        ]
       ],
       "shape": {
        "columns": 14,
        "rows": 3
       }
      },
      "text/html": [
       "<div>\n",
       "<style scoped>\n",
       "    .dataframe tbody tr th:only-of-type {\n",
       "        vertical-align: middle;\n",
       "    }\n",
       "\n",
       "    .dataframe tbody tr th {\n",
       "        vertical-align: top;\n",
       "    }\n",
       "\n",
       "    .dataframe thead th {\n",
       "        text-align: right;\n",
       "    }\n",
       "</style>\n",
       "<table border=\"1\" class=\"dataframe\">\n",
       "  <thead>\n",
       "    <tr style=\"text-align: right;\">\n",
       "      <th></th>\n",
       "      <th>Region</th>\n",
       "      <th>Country</th>\n",
       "      <th>Item Type</th>\n",
       "      <th>Sales Channel</th>\n",
       "      <th>Order Priority</th>\n",
       "      <th>Order Date</th>\n",
       "      <th>Order ID</th>\n",
       "      <th>Ship Date</th>\n",
       "      <th>Units Sold</th>\n",
       "      <th>Unit Price</th>\n",
       "      <th>Unit Cost</th>\n",
       "      <th>Total Revenue</th>\n",
       "      <th>Total Cost</th>\n",
       "      <th>Total Profit</th>\n",
       "    </tr>\n",
       "  </thead>\n",
       "  <tbody>\n",
       "    <tr>\n",
       "      <th>0</th>\n",
       "      <td>Middle East and North Africa</td>\n",
       "      <td>Libya</td>\n",
       "      <td>Cosmetics</td>\n",
       "      <td>Offline</td>\n",
       "      <td>M</td>\n",
       "      <td>10/18/2014</td>\n",
       "      <td>686800706</td>\n",
       "      <td>10/31/2014</td>\n",
       "      <td>8446</td>\n",
       "      <td>437.20</td>\n",
       "      <td>263.33</td>\n",
       "      <td>3692591.20</td>\n",
       "      <td>2224085.18</td>\n",
       "      <td>1468506.02</td>\n",
       "    </tr>\n",
       "    <tr>\n",
       "      <th>1</th>\n",
       "      <td>North America</td>\n",
       "      <td>Canada</td>\n",
       "      <td>Vegetables</td>\n",
       "      <td>Online</td>\n",
       "      <td>M</td>\n",
       "      <td>11/7/2011</td>\n",
       "      <td>185941302</td>\n",
       "      <td>12/8/2011</td>\n",
       "      <td>3018</td>\n",
       "      <td>154.06</td>\n",
       "      <td>90.93</td>\n",
       "      <td>464953.08</td>\n",
       "      <td>274426.74</td>\n",
       "      <td>190526.34</td>\n",
       "    </tr>\n",
       "    <tr>\n",
       "      <th>2</th>\n",
       "      <td>Middle East and North Africa</td>\n",
       "      <td>Libya</td>\n",
       "      <td>Baby Food</td>\n",
       "      <td>Offline</td>\n",
       "      <td>C</td>\n",
       "      <td>10/31/2016</td>\n",
       "      <td>246222341</td>\n",
       "      <td>12/9/2016</td>\n",
       "      <td>1517</td>\n",
       "      <td>255.28</td>\n",
       "      <td>159.42</td>\n",
       "      <td>387259.76</td>\n",
       "      <td>241840.14</td>\n",
       "      <td>145419.62</td>\n",
       "    </tr>\n",
       "  </tbody>\n",
       "</table>\n",
       "</div>"
      ],
      "text/plain": [
       "                         Region Country   Item Type Sales Channel  \\\n",
       "0  Middle East and North Africa   Libya   Cosmetics       Offline   \n",
       "1                 North America  Canada  Vegetables        Online   \n",
       "2  Middle East and North Africa   Libya   Baby Food       Offline   \n",
       "\n",
       "  Order Priority  Order Date   Order ID   Ship Date  Units Sold  Unit Price  \\\n",
       "0              M  10/18/2014  686800706  10/31/2014        8446      437.20   \n",
       "1              M   11/7/2011  185941302   12/8/2011        3018      154.06   \n",
       "2              C  10/31/2016  246222341   12/9/2016        1517      255.28   \n",
       "\n",
       "   Unit Cost  Total Revenue  Total Cost  Total Profit  \n",
       "0     263.33     3692591.20  2224085.18    1468506.02  \n",
       "1      90.93      464953.08   274426.74     190526.34  \n",
       "2     159.42      387259.76   241840.14     145419.62  "
      ]
     },
     "execution_count": 1,
     "metadata": {},
     "output_type": "execute_result"
    }
   ],
   "source": [
    "import pandas as pd\n",
    "import numpy as np\n",
    "\n",
    "df = pd.read_csv(\"data/1000 Sales Records.csv\", nrows=500)\n",
    "print(df.shape)\n",
    "print(df.dtypes)\n",
    "df.head(3)"
   ]
  },
  {
   "cell_type": "markdown",
   "id": "18005771",
   "metadata": {},
   "source": [
    "### #Step 2 - Pick the Right Container\n",
    "Justify dict vs namedtuple vs sets(1–2 sentences)  \n",
    "\n",
    "- dict = Data type that stores {key : value} pairs. Used for data retrieval and management.  \n",
    "- set = Data type that stores a set of unique values that do not overlap.  \n",
    "- namedtuple = Create an immutable object that can access data by name. Keep each line as a record, it's easy to read."
   ]
  },
  {
   "cell_type": "markdown",
   "id": "8e0a02e1",
   "metadata": {},
   "source": [
    "### #Step 3 - Implement Functions and  Data structure\n",
    "Implement and use it to populate an data structure"
   ]
  },
  {
   "cell_type": "code",
   "execution_count": 2,
   "id": "f4738d4b",
   "metadata": {},
   "outputs": [
    {
     "data": {
      "text/plain": [
       "[Sale(date='10/18/2014', customer_id=686800706, product='Cosmetics', price=437.2, quantity=8446, coupon_code=None, shipping_city=None, country='Libya'),\n",
       " Sale(date='11/7/2011', customer_id=185941302, product='Vegetables', price=154.06, quantity=3018, coupon_code=None, shipping_city=None, country='Canada')]"
      ]
     },
     "execution_count": 2,
     "metadata": {},
     "output_type": "execute_result"
    }
   ],
   "source": [
    "from collections import namedtuple\n",
    "\n",
    "Sale = namedtuple(\"Sale\", \"date, customer_id, product, price, quantity, coupon_code, shipping_city, country\")\n",
    "\n",
    "# https://www.freecodecamp.org/news/python-namedtuple-examples-how-to-create-and-work-with-namedtuples/ - namedtuple\n",
    "#Sale._fields\n",
    "\n",
    "def build_records(df: pd.DataFrame):\n",
    "    records = []\n",
    "    for _, r in df.iterrows():           # https://pandas.pydata.org/docs/reference/api/pandas.DataFrame.iterrows.html  - iterrows\n",
    "        records.append(                  # https://wikidocs.net/84389 - study with records\n",
    "            Sale(\n",
    "                date= r[\"Order Date\"],\n",
    "                customer_id= r[\"Order ID\"], \n",
    "                product= r[\"Item Type\"],\n",
    "                price= float(r[\"Unit Price\"]),\n",
    "                quantity= int(r[\"Units Sold\"]),\n",
    "                coupon_code= None,        # No Data\n",
    "                shipping_city= None,      # No Data\n",
    "                country= r[\"Country\"],\n",
    "            )\n",
    "        )\n",
    "    return records\n",
    "\n",
    "records = build_records(df)    #  populate\n",
    "records[0:2]                   # Check 2rows\n"
   ]
  },
  {
   "cell_type": "markdown",
   "id": "01db7cfc",
   "metadata": {},
   "source": [
    "### #Step 4 - Bulk Loaded\n",
    "Example: Map data structures from dataframes to dictionaries"
   ]
  },
  {
   "cell_type": "code",
   "execution_count": 3,
   "id": "6f38c817",
   "metadata": {},
   "outputs": [
    {
     "name": "stdout",
     "output_type": "stream",
     "text": [
      "{'Order Date': '10/31/2016', 'Unit Price': 255.28, 'Units Sold': 1517, 'Country': 'Libya'}\n",
      "Sum of Total Revenue of Canada  :  1226103.3\n"
     ]
    }
   ],
   "source": [
    "# Total Revenue = Unit Price * Units Sold\n",
    "# https://pandas.pydata.org/docs/reference/api/pandas.DataFrame.to_dict.html\n",
    "# https://pandas.pydata.org/docs/reference/api/pandas.DataFrame.set_index.html\n",
    "\n",
    "Order_info = (\n",
    "    df.set_index(\"Order ID\")[[\"Order Date\", \"Unit Price\", \"Units Sold\", \"Country\"]].to_dict(orient=\"index\") # Key : index(Order ID) / Value: each columns' values\n",
    ")\n",
    "\n",
    "print(Order_info[246222341])\n",
    "\n",
    "revenue_by_country = (\n",
    "    df.groupby(\"Country\")[\"Total Revenue\"].sum().to_dict() # Key : Country /  Value : Sum of Total Revenue of each Country     \n",
    ")\n",
    "Countryname = \"Canada\"\n",
    "print(\"Sum of Total Revenue of\", Countryname, \" : \",revenue_by_country[Countryname])  # example: Check Canadian total sales"
   ]
  },
  {
   "cell_type": "markdown",
   "id": "c37f5b2a",
   "metadata": {},
   "source": [
    "### #Step 5 - Quick Profiling\n",
    "Min/mean/max price, unique city count (set)\n",
    " - Datatype is already numeric (if it is not numeric, change datatype -> df[\"Unit Price\"] = pd.to_numeric(df[\"Unit Price\"])"
   ]
  },
  {
   "cell_type": "code",
   "execution_count": 4,
   "id": "649ae198",
   "metadata": {},
   "outputs": [
    {
     "name": "stdout",
     "output_type": "stream",
     "text": [
      "Min 9.33\n",
      "Mean 274.29506\n",
      "Max 668.27\n",
      "City Count 171\n"
     ]
    }
   ],
   "source": [
    "price_min = df[\"Unit Price\"].min()\n",
    "price_mean = df[\"Unit Price\"].mean()\n",
    "price_max = df[\"Unit Price\"].max()\n",
    "\n",
    "unique_city_count = len(set(df[\"Country\"]))\n",
    "\n",
    "print(\"Min\",price_min)\n",
    "print(\"Mean\",price_mean)\n",
    "print(\"Max\",price_max)\n",
    "print(\"City Count\",unique_city_count)"
   ]
  },
  {
   "cell_type": "markdown",
   "id": "b8ef1e47",
   "metadata": {},
   "source": [
    "### #Step 6 - Spot the Grime\n",
    "Identify at least three dirty data cases"
   ]
  },
  {
   "cell_type": "code",
   "execution_count": 5,
   "id": "3264f8c7",
   "metadata": {},
   "outputs": [
    {
     "name": "stdout",
     "output_type": "stream",
     "text": [
      "ship_before_order : 8\n",
      "Region_messy_text :  0\n",
      "Country_messy_text : 22\n"
     ]
    },
    {
     "data": {
      "application/vnd.microsoft.datawrangler.viewer.v0+json": {
       "columns": [
        {
         "name": "index",
         "rawType": "int64",
         "type": "integer"
        },
        {
         "name": "Ship Date",
         "rawType": "datetime64[ns]",
         "type": "datetime"
        },
        {
         "name": "Order Date",
         "rawType": "datetime64[ns]",
         "type": "datetime"
        }
       ],
       "ref": "5b0a8f08-c546-432e-bf94-0fafdfdf3516",
       "rows": [
        [
         "33",
         "2014-04-08 00:00:00",
         "2014-04-08 00:00:00"
        ],
        [
         "88",
         "2011-09-04 00:00:00",
         "2011-09-04 00:00:00"
        ],
        [
         "119",
         "2010-07-18 00:00:00",
         "2010-07-18 00:00:00"
        ],
        [
         "183",
         "2016-05-15 00:00:00",
         "2016-05-15 00:00:00"
        ],
        [
         "294",
         "2017-02-25 00:00:00",
         "2017-02-25 00:00:00"
        ],
        [
         "348",
         "2013-04-18 00:00:00",
         "2013-04-18 00:00:00"
        ],
        [
         "472",
         "2014-09-21 00:00:00",
         "2014-09-21 00:00:00"
        ],
        [
         "498",
         "2015-02-22 00:00:00",
         "2015-02-22 00:00:00"
        ]
       ],
       "shape": {
        "columns": 2,
        "rows": 8
       }
      },
      "text/html": [
       "<div>\n",
       "<style scoped>\n",
       "    .dataframe tbody tr th:only-of-type {\n",
       "        vertical-align: middle;\n",
       "    }\n",
       "\n",
       "    .dataframe tbody tr th {\n",
       "        vertical-align: top;\n",
       "    }\n",
       "\n",
       "    .dataframe thead th {\n",
       "        text-align: right;\n",
       "    }\n",
       "</style>\n",
       "<table border=\"1\" class=\"dataframe\">\n",
       "  <thead>\n",
       "    <tr style=\"text-align: right;\">\n",
       "      <th></th>\n",
       "      <th>Ship Date</th>\n",
       "      <th>Order Date</th>\n",
       "    </tr>\n",
       "  </thead>\n",
       "  <tbody>\n",
       "    <tr>\n",
       "      <th>33</th>\n",
       "      <td>2014-04-08</td>\n",
       "      <td>2014-04-08</td>\n",
       "    </tr>\n",
       "    <tr>\n",
       "      <th>88</th>\n",
       "      <td>2011-09-04</td>\n",
       "      <td>2011-09-04</td>\n",
       "    </tr>\n",
       "    <tr>\n",
       "      <th>119</th>\n",
       "      <td>2010-07-18</td>\n",
       "      <td>2010-07-18</td>\n",
       "    </tr>\n",
       "    <tr>\n",
       "      <th>183</th>\n",
       "      <td>2016-05-15</td>\n",
       "      <td>2016-05-15</td>\n",
       "    </tr>\n",
       "    <tr>\n",
       "      <th>294</th>\n",
       "      <td>2017-02-25</td>\n",
       "      <td>2017-02-25</td>\n",
       "    </tr>\n",
       "    <tr>\n",
       "      <th>348</th>\n",
       "      <td>2013-04-18</td>\n",
       "      <td>2013-04-18</td>\n",
       "    </tr>\n",
       "    <tr>\n",
       "      <th>472</th>\n",
       "      <td>2014-09-21</td>\n",
       "      <td>2014-09-21</td>\n",
       "    </tr>\n",
       "    <tr>\n",
       "      <th>498</th>\n",
       "      <td>2015-02-22</td>\n",
       "      <td>2015-02-22</td>\n",
       "    </tr>\n",
       "  </tbody>\n",
       "</table>\n",
       "</div>"
      ],
      "text/plain": [
       "     Ship Date Order Date\n",
       "33  2014-04-08 2014-04-08\n",
       "88  2011-09-04 2011-09-04\n",
       "119 2010-07-18 2010-07-18\n",
       "183 2016-05-15 2016-05-15\n",
       "294 2017-02-25 2017-02-25\n",
       "348 2013-04-18 2013-04-18\n",
       "472 2014-09-21 2014-09-21\n",
       "498 2015-02-22 2015-02-22"
      ]
     },
     "execution_count": 5,
     "metadata": {},
     "output_type": "execute_result"
    }
   ],
   "source": [
    "# https://pandas.pydata.org/docs/reference/api/pandas.Series.str.strip.html\n",
    "# https://pandas.pydata.org/docs/reference/api/pandas.Series.str.title.html\n",
    "df[\"Order Date\"] = pd.to_datetime(df[\"Order Date\"])\n",
    "df[\"Ship Date\"]  = pd.to_datetime(df[\"Ship Date\"])\n",
    "\n",
    "# (1) Ship Date <= Order Date\n",
    "dirty_ship_before_order = df[\"Ship Date\"] <= df[\"Order Date\"]\n",
    "\n",
    "# (2) Region - Messy text\n",
    "dirty_messy_region = df[\"Region\"].astype(str) != df[\"Region\"].astype(str).str.strip()\n",
    "\n",
    "# (3) Country - Messy text\n",
    "dirty_messy_country = (df[\"Country\"].astype(str) != df[\"Country\"].astype(str).str.strip())\n",
    "\n",
    "# Print Dirty data case\n",
    "# print(\"missing_dates :\", (dirty_missing_dates.sum()))\n",
    "print(\"ship_before_order :\", (dirty_ship_before_order.sum()))\n",
    "print(\"Region_messy_text : \", (dirty_messy_region.sum()))\n",
    "print(\"Country_messy_text :\", (dirty_messy_country.sum()))\n",
    "\n",
    "#df.loc[dirty_messy_country, [\"Country\"]].head(10)\n",
    "df.loc[dirty_ship_before_order, [\"Ship Date\",\"Order Date\"]].head(10)"
   ]
  },
  {
   "cell_type": "markdown",
   "id": "65f73e3d",
   "metadata": {},
   "source": [
    "### #Step 7 - Cleaning Rules\n",
    "Execute fixes inside clean(); show “before/after” counts"
   ]
  },
  {
   "cell_type": "code",
   "execution_count": 6,
   "id": "9585b38c",
   "metadata": {},
   "outputs": [
    {
     "name": "stdout",
     "output_type": "stream",
     "text": [
      "Before :  {'Rows': 500, 'Ship_before_same': 8, 'Country_Messy': 22}\n",
      "After  :  {'Rows': 492, 'Ship_before_same': 0, 'Country_Messy': 0}\n",
      "Rows: 500 -> 492\n"
     ]
    }
   ],
   "source": [
    "# https://pandas.pydata.org/docs/reference/api/pandas.DataFrame.loc.html - using .loc to delete row if boolean is false\n",
    "\n",
    "class clean_total:\n",
    "    def clean(df: pd.DataFrame):\n",
    "        cd = df.copy()\n",
    "\n",
    "        messy_ship = (cd[\"Ship Date\"] <= cd[\"Order Date\"])\n",
    "        messy_country = (cd[\"Country\"].astype(str) != cd[\"Country\"].astype(str).str.strip())\n",
    "\n",
    "        before = {\n",
    "            \"Rows\" : len(cd),\n",
    "            \"Ship_before_same\" : int(messy_ship.sum()),\n",
    "            \"Country_Messy\" : int(messy_country.sum())\n",
    "        }\n",
    "\n",
    "        # Cleaning\n",
    "        cd = cd.loc[cd[\"Ship Date\"] > cd[\"Order Date\"]].copy()\n",
    "        cd[\"Country\"] = cd[\"Country\"].astype(\"string\").str.strip()\n",
    "\n",
    "        messy_ship_a = (cd[\"Ship Date\"] <= cd[\"Order Date\"])\n",
    "        messy_country_a = (cd[\"Country\"].astype(str) != cd[\"Country\"].astype(str).str.strip())\n",
    "\n",
    "        after = {\n",
    "            \"Rows\" : len(cd),\n",
    "            \"Ship_before_same\" : int(messy_ship_a.sum()),\n",
    "            \"Country_Messy\" : int(messy_country_a.sum())\n",
    "        }\n",
    "\n",
    "        return cd, before, after\n",
    "\n",
    "    def total(df: pd.DataFrame) :\n",
    "        cd = df.copy()\n",
    "        total_sum = float((cd[\"Unit Price\"] * cd[\"Units Sold\"]).sum())\n",
    "        return cd, total_sum\n",
    "    \n",
    "cd, before, after = clean_total.clean(df)\n",
    "print(\"Before : \", before)\n",
    "print(\"After  : \", after)\n",
    "print(f\"Rows: {before['Rows']} -> {after['Rows']}\")"
   ]
  },
  {
   "cell_type": "markdown",
   "id": "20942c2c",
   "metadata": {},
   "source": [
    "### #Step 8 - Transformations\n",
    "For example: Parse coupon_code ➞ numeric discount (others apply)"
   ]
  },
  {
   "cell_type": "code",
   "execution_count": 7,
   "id": "2a722d28",
   "metadata": {},
   "outputs": [
    {
     "name": "stdout",
     "output_type": "stream",
     "text": [
      "  Sales Channel       coupon_code\n",
      "0       Offline  offlinecoupon_5%\n",
      "1        Online  onlinecoupon_10%\n",
      "2       Offline  offlinecoupon_5%\n",
      "0    0.05\n",
      "1    0.10\n",
      "2    0.05\n",
      "Name: discount_rates, dtype: float64\n"
     ]
    }
   ],
   "source": [
    "cl_df = cd.copy()\n",
    "\n",
    "cl_df[\"coupon_code\"] = \"no coupon\"\n",
    "for x, val in cl_df.iterrows(): \n",
    "    onoff = str(val[\"Sales Channel\"].strip().lower())\n",
    "    if onoff == \"online\":\n",
    "        cl_df.at[x,\"coupon_code\"] = \"onlinecoupon_10%\"\n",
    "    elif onoff == \"offline\":\n",
    "        cl_df.at[x,\"coupon_code\"] = \"offlinecoupon_5%\"\n",
    "\n",
    "print(cl_df[[\"Sales Channel\", \"coupon_code\"]].head(3))\n",
    "\n",
    "discount_rates=[]\n",
    "for code in cl_df[\"coupon_code\"]:\n",
    "    if code == \"onlinecoupon_10%\":\n",
    "        discount_rates.append(0.1)\n",
    "    elif code == \"offlinecoupon_5%\":\n",
    "        discount_rates.append(0.05)\n",
    "    else :\n",
    "        discount_rates.append(0)\n",
    "\n",
    "cl_df[\"discount_rates\"] = discount_rates\n",
    "\n",
    "print (cl_df[\"discount_rates\"].head(3))\n"
   ]
  },
  {
   "cell_type": "markdown",
   "id": "2cc12482",
   "metadata": {},
   "source": [
    "### #Step 9 - Feature Engineering\n",
    "For example: Add days_since_purchase"
   ]
  },
  {
   "cell_type": "code",
   "execution_count": 8,
   "id": "3fe19299",
   "metadata": {},
   "outputs": [
    {
     "name": "stdout",
     "output_type": "stream",
     "text": [
      "  Order Date  days_since_purchase  Ship Date  days_since_ship\n",
      "0 2014-10-18                 3999 2014-10-31             3986\n",
      "1 2011-11-07                 5075 2011-12-08             5044\n",
      "2 2016-10-31                 3255 2016-12-09             3216\n",
      "3 2010-04-10                 5651 2010-05-12             5619\n",
      "4 2011-08-16                 5158 2011-08-31             5143\n",
      "5 2014-11-24                 3962 2014-12-28             3928\n",
      "6 2015-03-04                 3862 2015-04-17             3818\n",
      "7 2012-05-17                 4883 2012-06-28             4841\n",
      "8 2015-01-29                 3896 2015-03-07             3859\n",
      "9 2013-12-24                 4297 2014-01-19             4271\n"
     ]
    }
   ],
   "source": [
    "# https://pandas.pydata.org/docs/reference/api/pandas.Timestamp.normalize.html\n",
    "today = pd.Timestamp(\"today\").normalize()\n",
    "\n",
    "# After Purchase\n",
    "cl_df[\"days_since_purchase\"] = (today - cl_df[\"Order Date\"]).dt.days\n",
    "# After Ship\n",
    "cl_df[\"days_since_ship\"] = (today - cl_df[\"Ship Date\"]).dt.days\n",
    "\n",
    "print(cl_df[[\"Order Date\",\"days_since_purchase\",\"Ship Date\",\"days_since_ship\"]].head(10))"
   ]
  },
  {
   "cell_type": "markdown",
   "id": "afb87883",
   "metadata": {},
   "source": [
    "### #Step 10 - Mini-Aggregation\n",
    "For example: Revenue per shipping_city (dict or pandas.groupby)"
   ]
  },
  {
   "cell_type": "code",
   "execution_count": 9,
   "id": "ac0700e6",
   "metadata": {},
   "outputs": [
    {
     "data": {
      "application/vnd.microsoft.datawrangler.viewer.v0+json": {
       "columns": [
        {
         "name": "index",
         "rawType": "int64",
         "type": "integer"
        },
        {
         "name": "Region",
         "rawType": "object",
         "type": "string"
        },
        {
         "name": "Country",
         "rawType": "string",
         "type": "string"
        },
        {
         "name": "Item Type",
         "rawType": "object",
         "type": "string"
        },
        {
         "name": "Sales Channel",
         "rawType": "object",
         "type": "string"
        },
        {
         "name": "Order Priority",
         "rawType": "object",
         "type": "string"
        },
        {
         "name": "Order Date",
         "rawType": "datetime64[ns]",
         "type": "datetime"
        },
        {
         "name": "Order ID",
         "rawType": "int64",
         "type": "integer"
        },
        {
         "name": "Ship Date",
         "rawType": "datetime64[ns]",
         "type": "datetime"
        },
        {
         "name": "Units Sold",
         "rawType": "int64",
         "type": "integer"
        },
        {
         "name": "Unit Price",
         "rawType": "float64",
         "type": "float"
        },
        {
         "name": "Unit Cost",
         "rawType": "float64",
         "type": "float"
        },
        {
         "name": "Total Revenue",
         "rawType": "float64",
         "type": "float"
        },
        {
         "name": "Total Cost",
         "rawType": "float64",
         "type": "float"
        },
        {
         "name": "Total Profit",
         "rawType": "float64",
         "type": "float"
        },
        {
         "name": "coupon_code",
         "rawType": "object",
         "type": "string"
        },
        {
         "name": "discount_rates",
         "rawType": "float64",
         "type": "float"
        },
        {
         "name": "days_since_purchase",
         "rawType": "int64",
         "type": "integer"
        },
        {
         "name": "days_since_ship",
         "rawType": "int64",
         "type": "integer"
        },
        {
         "name": "shipping_city",
         "rawType": "string",
         "type": "string"
        }
       ],
       "ref": "3596749d-0649-4a1c-a642-fff0364bfc10",
       "rows": [
        [
         "0",
         "Middle East and North Africa",
         "Libya",
         "Cosmetics",
         "Offline",
         "M",
         "2014-10-18 00:00:00",
         "686800706",
         "2014-10-31 00:00:00",
         "8446",
         "437.2",
         "263.33",
         "3692591.2",
         "2224085.18",
         "1468506.02",
         "offlinecoupon_5%",
         "0.05",
         "3999",
         "3986",
         "Tripoli"
        ],
        [
         "1",
         "North America",
         "Canada",
         "Vegetables",
         "Online",
         "M",
         "2011-11-07 00:00:00",
         "185941302",
         "2011-12-08 00:00:00",
         "3018",
         "154.06",
         "90.93",
         "464953.08",
         "274426.74",
         "190526.34",
         "onlinecoupon_10%",
         "0.1",
         "5075",
         "5044",
         "Ottawa"
        ],
        [
         "2",
         "Middle East and North Africa",
         "Libya",
         "Baby Food",
         "Offline",
         "C",
         "2016-10-31 00:00:00",
         "246222341",
         "2016-12-09 00:00:00",
         "1517",
         "255.28",
         "159.42",
         "387259.76",
         "241840.14",
         "145419.62",
         "offlinecoupon_5%",
         "0.05",
         "3255",
         "3216",
         "Tripoli"
        ]
       ],
       "shape": {
        "columns": 19,
        "rows": 3
       }
      },
      "text/html": [
       "<div>\n",
       "<style scoped>\n",
       "    .dataframe tbody tr th:only-of-type {\n",
       "        vertical-align: middle;\n",
       "    }\n",
       "\n",
       "    .dataframe tbody tr th {\n",
       "        vertical-align: top;\n",
       "    }\n",
       "\n",
       "    .dataframe thead th {\n",
       "        text-align: right;\n",
       "    }\n",
       "</style>\n",
       "<table border=\"1\" class=\"dataframe\">\n",
       "  <thead>\n",
       "    <tr style=\"text-align: right;\">\n",
       "      <th></th>\n",
       "      <th>Region</th>\n",
       "      <th>Country</th>\n",
       "      <th>Item Type</th>\n",
       "      <th>Sales Channel</th>\n",
       "      <th>Order Priority</th>\n",
       "      <th>Order Date</th>\n",
       "      <th>Order ID</th>\n",
       "      <th>Ship Date</th>\n",
       "      <th>Units Sold</th>\n",
       "      <th>Unit Price</th>\n",
       "      <th>Unit Cost</th>\n",
       "      <th>Total Revenue</th>\n",
       "      <th>Total Cost</th>\n",
       "      <th>Total Profit</th>\n",
       "      <th>coupon_code</th>\n",
       "      <th>discount_rates</th>\n",
       "      <th>days_since_purchase</th>\n",
       "      <th>days_since_ship</th>\n",
       "      <th>shipping_city</th>\n",
       "    </tr>\n",
       "  </thead>\n",
       "  <tbody>\n",
       "    <tr>\n",
       "      <th>0</th>\n",
       "      <td>Middle East and North Africa</td>\n",
       "      <td>Libya</td>\n",
       "      <td>Cosmetics</td>\n",
       "      <td>Offline</td>\n",
       "      <td>M</td>\n",
       "      <td>2014-10-18</td>\n",
       "      <td>686800706</td>\n",
       "      <td>2014-10-31</td>\n",
       "      <td>8446</td>\n",
       "      <td>437.20</td>\n",
       "      <td>263.33</td>\n",
       "      <td>3692591.20</td>\n",
       "      <td>2224085.18</td>\n",
       "      <td>1468506.02</td>\n",
       "      <td>offlinecoupon_5%</td>\n",
       "      <td>0.05</td>\n",
       "      <td>3999</td>\n",
       "      <td>3986</td>\n",
       "      <td>Tripoli</td>\n",
       "    </tr>\n",
       "    <tr>\n",
       "      <th>1</th>\n",
       "      <td>North America</td>\n",
       "      <td>Canada</td>\n",
       "      <td>Vegetables</td>\n",
       "      <td>Online</td>\n",
       "      <td>M</td>\n",
       "      <td>2011-11-07</td>\n",
       "      <td>185941302</td>\n",
       "      <td>2011-12-08</td>\n",
       "      <td>3018</td>\n",
       "      <td>154.06</td>\n",
       "      <td>90.93</td>\n",
       "      <td>464953.08</td>\n",
       "      <td>274426.74</td>\n",
       "      <td>190526.34</td>\n",
       "      <td>onlinecoupon_10%</td>\n",
       "      <td>0.10</td>\n",
       "      <td>5075</td>\n",
       "      <td>5044</td>\n",
       "      <td>Ottawa</td>\n",
       "    </tr>\n",
       "    <tr>\n",
       "      <th>2</th>\n",
       "      <td>Middle East and North Africa</td>\n",
       "      <td>Libya</td>\n",
       "      <td>Baby Food</td>\n",
       "      <td>Offline</td>\n",
       "      <td>C</td>\n",
       "      <td>2016-10-31</td>\n",
       "      <td>246222341</td>\n",
       "      <td>2016-12-09</td>\n",
       "      <td>1517</td>\n",
       "      <td>255.28</td>\n",
       "      <td>159.42</td>\n",
       "      <td>387259.76</td>\n",
       "      <td>241840.14</td>\n",
       "      <td>145419.62</td>\n",
       "      <td>offlinecoupon_5%</td>\n",
       "      <td>0.05</td>\n",
       "      <td>3255</td>\n",
       "      <td>3216</td>\n",
       "      <td>Tripoli</td>\n",
       "    </tr>\n",
       "  </tbody>\n",
       "</table>\n",
       "</div>"
      ],
      "text/plain": [
       "                         Region Country   Item Type Sales Channel  \\\n",
       "0  Middle East and North Africa   Libya   Cosmetics       Offline   \n",
       "1                 North America  Canada  Vegetables        Online   \n",
       "2  Middle East and North Africa   Libya   Baby Food       Offline   \n",
       "\n",
       "  Order Priority Order Date   Order ID  Ship Date  Units Sold  Unit Price  \\\n",
       "0              M 2014-10-18  686800706 2014-10-31        8446      437.20   \n",
       "1              M 2011-11-07  185941302 2011-12-08        3018      154.06   \n",
       "2              C 2016-10-31  246222341 2016-12-09        1517      255.28   \n",
       "\n",
       "   Unit Cost  Total Revenue  Total Cost  Total Profit       coupon_code  \\\n",
       "0     263.33     3692591.20  2224085.18    1468506.02  offlinecoupon_5%   \n",
       "1      90.93      464953.08   274426.74     190526.34  onlinecoupon_10%   \n",
       "2     159.42      387259.76   241840.14     145419.62  offlinecoupon_5%   \n",
       "\n",
       "   discount_rates  days_since_purchase  days_since_ship shipping_city  \n",
       "0            0.05                 3999             3986       Tripoli  \n",
       "1            0.10                 5075             5044        Ottawa  \n",
       "2            0.05                 3255             3216       Tripoli  "
      ]
     },
     "execution_count": 9,
     "metadata": {},
     "output_type": "execute_result"
    }
   ],
   "source": [
    "main = cl_df.copy()\n",
    "\n",
    "capital = pd.read_csv(\"data/concap.csv\")\n",
    "capital = capital.rename(columns={\"CountryName\": \"Country\", \"CapitalName\":\"shipping_city\"})\n",
    "capital = capital[[\"Country\", \"shipping_city\"]].copy()\n",
    "\n",
    "capital[\"Country\"]  = capital[\"Country\"].astype(\"string\").str.strip()\n",
    "capital[\"shipping_city\"] = capital[\"shipping_city\"].astype(\"string\").str.strip()  \n",
    "\n",
    "cl_df = main.merge(capital, on= \"Country\", how=\"left\")\n",
    "# https://pandas.pydata.org/docs/reference/api/pandas.DataFrame.merge.html\n",
    "\n",
    "cl_df.head(3)"
   ]
  },
  {
   "cell_type": "code",
   "execution_count": 10,
   "id": "9b6ca886",
   "metadata": {},
   "outputs": [
    {
     "data": {
      "application/vnd.microsoft.datawrangler.viewer.v0+json": {
       "columns": [
        {
         "name": "index",
         "rawType": "int64",
         "type": "integer"
        },
        {
         "name": "shipping_city",
         "rawType": "string",
         "type": "string"
        },
        {
         "name": "TotalRevenue_sum",
         "rawType": "float64",
         "type": "float"
        }
       ],
       "ref": "6d61d1e6-3807-465a-9c1f-aad54b056e0d",
       "rows": [
        [
         "0",
         "Abu Dhabi",
         "665128.1799999999"
        ],
        [
         "1",
         "Abuja",
         "131748.76"
        ],
        [
         "2",
         "Accra",
         "8138014.18"
        ],
        [
         "3",
         "Addis Ababa",
         "281251.62"
        ],
        [
         "4",
         "Algiers",
         "4668819.12"
        ]
       ],
       "shape": {
        "columns": 2,
        "rows": 5
       }
      },
      "text/html": [
       "<div>\n",
       "<style scoped>\n",
       "    .dataframe tbody tr th:only-of-type {\n",
       "        vertical-align: middle;\n",
       "    }\n",
       "\n",
       "    .dataframe tbody tr th {\n",
       "        vertical-align: top;\n",
       "    }\n",
       "\n",
       "    .dataframe thead th {\n",
       "        text-align: right;\n",
       "    }\n",
       "</style>\n",
       "<table border=\"1\" class=\"dataframe\">\n",
       "  <thead>\n",
       "    <tr style=\"text-align: right;\">\n",
       "      <th></th>\n",
       "      <th>shipping_city</th>\n",
       "      <th>TotalRevenue_sum</th>\n",
       "    </tr>\n",
       "  </thead>\n",
       "  <tbody>\n",
       "    <tr>\n",
       "      <th>0</th>\n",
       "      <td>Abu Dhabi</td>\n",
       "      <td>665128.18</td>\n",
       "    </tr>\n",
       "    <tr>\n",
       "      <th>1</th>\n",
       "      <td>Abuja</td>\n",
       "      <td>131748.76</td>\n",
       "    </tr>\n",
       "    <tr>\n",
       "      <th>2</th>\n",
       "      <td>Accra</td>\n",
       "      <td>8138014.18</td>\n",
       "    </tr>\n",
       "    <tr>\n",
       "      <th>3</th>\n",
       "      <td>Addis Ababa</td>\n",
       "      <td>281251.62</td>\n",
       "    </tr>\n",
       "    <tr>\n",
       "      <th>4</th>\n",
       "      <td>Algiers</td>\n",
       "      <td>4668819.12</td>\n",
       "    </tr>\n",
       "  </tbody>\n",
       "</table>\n",
       "</div>"
      ],
      "text/plain": [
       "  shipping_city  TotalRevenue_sum\n",
       "0     Abu Dhabi         665128.18\n",
       "1         Abuja         131748.76\n",
       "2         Accra        8138014.18\n",
       "3   Addis Ababa         281251.62\n",
       "4       Algiers        4668819.12"
      ]
     },
     "execution_count": 10,
     "metadata": {},
     "output_type": "execute_result"
    }
   ],
   "source": [
    "\"\"\"\n",
    "Cell generated by Data Wrangler.\n",
    "\"\"\"\n",
    "def clean_data(cl_df):\n",
    "    # Performed 1 aggregation grouped on column: 'shipping_city'\n",
    "    cl_df = cl_df.groupby(['shipping_city']).agg(TotalRevenue_sum=('Total Revenue', 'sum')).reset_index()\n",
    "    return cl_df\n",
    "\n",
    "cl_df_clean = clean_data(cl_df.copy())\n",
    "cl_df_clean.head()"
   ]
  },
  {
   "cell_type": "markdown",
   "id": "37c9638a",
   "metadata": {},
   "source": [
    "### #Step 11 - Serialization Checkpoint\n",
    "Save cleaned data to JSON"
   ]
  },
  {
   "cell_type": "code",
   "execution_count": 11,
   "id": "32947a6c",
   "metadata": {},
   "outputs": [],
   "source": [
    "# https://pandas.pydata.org/docs/reference/api/pandas.DataFrame.to_json.html\n",
    "\n",
    "cl_df.to_json(\"data/cleand_data.json\",orient=\"records\",indent=1)\n",
    "cl_df.to_csv(\"data/cleand_data.csv\")\n",
    "cl_df_clean.to_json(\"data/city_aggregate.json\",orient=\"records\",indent=1)\n",
    "cl_df_clean.to_csv(\"data/city_aggregate.csv\")"
   ]
  },
  {
   "cell_type": "markdown",
   "id": "1605b402",
   "metadata": {},
   "source": [
    "### #Step 12 - Soft Interview Reflection\n",
    "Markdown: < 120 words explaining how Functions have helped"
   ]
  },
  {
   "cell_type": "markdown",
   "id": "7bd49bcc",
   "metadata": {},
   "source": [
    "I built a small class, clean_total, with clean() and total().  \n",
    "clean() drops abnormal rows and trims whitespace in Country, and prints before/after counts to verify fixes.   \n",
    "If the class built as a .py module and import it in the notebook, than I can reuse it by changing only parameters, improving readability.  \n",
    "In Steps 9–11, I created derived columns, merged a secondary metadata file to add a city per Country, and used groupby for city-level aggregation.   \n",
    "I implemented a basic pipeline based on the course material; with more advanced pandas/numpy features, the workflow can be made simpler and more reliable.  "
   ]
  },
  {
   "cell_type": "markdown",
   "id": "994fd55a",
   "metadata": {},
   "source": [
    "### Data-Dictionary Section"
   ]
  },
  {
   "cell_type": "code",
   "execution_count": 12,
   "id": "03a47f91",
   "metadata": {},
   "outputs": [
    {
     "name": "stdout",
     "output_type": "stream",
     "text": [
      "<class 'pandas.core.frame.DataFrame'>\n",
      "RangeIndex: 492 entries, 0 to 491\n",
      "Data columns (total 19 columns):\n",
      " #   Column               Non-Null Count  Dtype         \n",
      "---  ------               --------------  -----         \n",
      " 0   Region               492 non-null    object        \n",
      " 1   Country              492 non-null    string        \n",
      " 2   Item Type            492 non-null    object        \n",
      " 3   Sales Channel        492 non-null    object        \n",
      " 4   Order Priority       492 non-null    object        \n",
      " 5   Order Date           492 non-null    datetime64[ns]\n",
      " 6   Order ID             492 non-null    int64         \n",
      " 7   Ship Date            492 non-null    datetime64[ns]\n",
      " 8   Units Sold           492 non-null    int64         \n",
      " 9   Unit Price           492 non-null    float64       \n",
      " 10  Unit Cost            492 non-null    float64       \n",
      " 11  Total Revenue        492 non-null    float64       \n",
      " 12  Total Cost           492 non-null    float64       \n",
      " 13  Total Profit         492 non-null    float64       \n",
      " 14  coupon_code          492 non-null    object        \n",
      " 15  discount_rates       492 non-null    float64       \n",
      " 16  days_since_purchase  492 non-null    int64         \n",
      " 17  days_since_ship      492 non-null    int64         \n",
      " 18  shipping_city        492 non-null    string        \n",
      "dtypes: datetime64[ns](2), float64(6), int64(4), object(5), string(2)\n",
      "memory usage: 73.2+ KB\n",
      "None\n"
     ]
    },
    {
     "data": {
      "application/vnd.microsoft.datawrangler.viewer.v0+json": {
       "columns": [
        {
         "name": "index",
         "rawType": "int64",
         "type": "integer"
        },
        {
         "name": "Region",
         "rawType": "object",
         "type": "string"
        },
        {
         "name": "Country",
         "rawType": "string",
         "type": "string"
        },
        {
         "name": "Item Type",
         "rawType": "object",
         "type": "string"
        },
        {
         "name": "Sales Channel",
         "rawType": "object",
         "type": "string"
        },
        {
         "name": "Order Priority",
         "rawType": "object",
         "type": "string"
        },
        {
         "name": "Order Date",
         "rawType": "datetime64[ns]",
         "type": "datetime"
        },
        {
         "name": "Order ID",
         "rawType": "int64",
         "type": "integer"
        },
        {
         "name": "Ship Date",
         "rawType": "datetime64[ns]",
         "type": "datetime"
        },
        {
         "name": "Units Sold",
         "rawType": "int64",
         "type": "integer"
        },
        {
         "name": "Unit Price",
         "rawType": "float64",
         "type": "float"
        },
        {
         "name": "Unit Cost",
         "rawType": "float64",
         "type": "float"
        },
        {
         "name": "Total Revenue",
         "rawType": "float64",
         "type": "float"
        },
        {
         "name": "Total Cost",
         "rawType": "float64",
         "type": "float"
        },
        {
         "name": "Total Profit",
         "rawType": "float64",
         "type": "float"
        },
        {
         "name": "coupon_code",
         "rawType": "object",
         "type": "string"
        },
        {
         "name": "discount_rates",
         "rawType": "float64",
         "type": "float"
        },
        {
         "name": "days_since_purchase",
         "rawType": "int64",
         "type": "integer"
        },
        {
         "name": "days_since_ship",
         "rawType": "int64",
         "type": "integer"
        },
        {
         "name": "shipping_city",
         "rawType": "string",
         "type": "string"
        }
       ],
       "ref": "1a9f16d7-cf93-44f9-a4aa-5435f462f1ec",
       "rows": [
        [
         "0",
         "Middle East and North Africa",
         "Libya",
         "Cosmetics",
         "Offline",
         "M",
         "2014-10-18 00:00:00",
         "686800706",
         "2014-10-31 00:00:00",
         "8446",
         "437.2",
         "263.33",
         "3692591.2",
         "2224085.18",
         "1468506.02",
         "offlinecoupon_5%",
         "0.05",
         "3999",
         "3986",
         "Tripoli"
        ],
        [
         "1",
         "North America",
         "Canada",
         "Vegetables",
         "Online",
         "M",
         "2011-11-07 00:00:00",
         "185941302",
         "2011-12-08 00:00:00",
         "3018",
         "154.06",
         "90.93",
         "464953.08",
         "274426.74",
         "190526.34",
         "onlinecoupon_10%",
         "0.1",
         "5075",
         "5044",
         "Ottawa"
        ],
        [
         "2",
         "Middle East and North Africa",
         "Libya",
         "Baby Food",
         "Offline",
         "C",
         "2016-10-31 00:00:00",
         "246222341",
         "2016-12-09 00:00:00",
         "1517",
         "255.28",
         "159.42",
         "387259.76",
         "241840.14",
         "145419.62",
         "offlinecoupon_5%",
         "0.05",
         "3255",
         "3216",
         "Tripoli"
        ],
        [
         "3",
         "Asia",
         "Japan",
         "Cereal",
         "Offline",
         "C",
         "2010-04-10 00:00:00",
         "161442649",
         "2010-05-12 00:00:00",
         "3322",
         "205.7",
         "117.11",
         "683335.4",
         "389039.42",
         "294295.98",
         "offlinecoupon_5%",
         "0.05",
         "5651",
         "5619",
         "Tokyo"
        ],
        [
         "4",
         "Sub-Saharan Africa",
         "Chad",
         "Fruits",
         "Offline",
         "H",
         "2011-08-16 00:00:00",
         "645713555",
         "2011-08-31 00:00:00",
         "9845",
         "9.33",
         "6.92",
         "91853.85",
         "68127.4",
         "23726.45",
         "offlinecoupon_5%",
         "0.05",
         "5158",
         "5143",
         "N'Djamena"
        ]
       ],
       "shape": {
        "columns": 19,
        "rows": 5
       }
      },
      "text/html": [
       "<div>\n",
       "<style scoped>\n",
       "    .dataframe tbody tr th:only-of-type {\n",
       "        vertical-align: middle;\n",
       "    }\n",
       "\n",
       "    .dataframe tbody tr th {\n",
       "        vertical-align: top;\n",
       "    }\n",
       "\n",
       "    .dataframe thead th {\n",
       "        text-align: right;\n",
       "    }\n",
       "</style>\n",
       "<table border=\"1\" class=\"dataframe\">\n",
       "  <thead>\n",
       "    <tr style=\"text-align: right;\">\n",
       "      <th></th>\n",
       "      <th>Region</th>\n",
       "      <th>Country</th>\n",
       "      <th>Item Type</th>\n",
       "      <th>Sales Channel</th>\n",
       "      <th>Order Priority</th>\n",
       "      <th>Order Date</th>\n",
       "      <th>Order ID</th>\n",
       "      <th>Ship Date</th>\n",
       "      <th>Units Sold</th>\n",
       "      <th>Unit Price</th>\n",
       "      <th>Unit Cost</th>\n",
       "      <th>Total Revenue</th>\n",
       "      <th>Total Cost</th>\n",
       "      <th>Total Profit</th>\n",
       "      <th>coupon_code</th>\n",
       "      <th>discount_rates</th>\n",
       "      <th>days_since_purchase</th>\n",
       "      <th>days_since_ship</th>\n",
       "      <th>shipping_city</th>\n",
       "    </tr>\n",
       "  </thead>\n",
       "  <tbody>\n",
       "    <tr>\n",
       "      <th>0</th>\n",
       "      <td>Middle East and North Africa</td>\n",
       "      <td>Libya</td>\n",
       "      <td>Cosmetics</td>\n",
       "      <td>Offline</td>\n",
       "      <td>M</td>\n",
       "      <td>2014-10-18</td>\n",
       "      <td>686800706</td>\n",
       "      <td>2014-10-31</td>\n",
       "      <td>8446</td>\n",
       "      <td>437.20</td>\n",
       "      <td>263.33</td>\n",
       "      <td>3692591.20</td>\n",
       "      <td>2224085.18</td>\n",
       "      <td>1468506.02</td>\n",
       "      <td>offlinecoupon_5%</td>\n",
       "      <td>0.05</td>\n",
       "      <td>3999</td>\n",
       "      <td>3986</td>\n",
       "      <td>Tripoli</td>\n",
       "    </tr>\n",
       "    <tr>\n",
       "      <th>1</th>\n",
       "      <td>North America</td>\n",
       "      <td>Canada</td>\n",
       "      <td>Vegetables</td>\n",
       "      <td>Online</td>\n",
       "      <td>M</td>\n",
       "      <td>2011-11-07</td>\n",
       "      <td>185941302</td>\n",
       "      <td>2011-12-08</td>\n",
       "      <td>3018</td>\n",
       "      <td>154.06</td>\n",
       "      <td>90.93</td>\n",
       "      <td>464953.08</td>\n",
       "      <td>274426.74</td>\n",
       "      <td>190526.34</td>\n",
       "      <td>onlinecoupon_10%</td>\n",
       "      <td>0.10</td>\n",
       "      <td>5075</td>\n",
       "      <td>5044</td>\n",
       "      <td>Ottawa</td>\n",
       "    </tr>\n",
       "    <tr>\n",
       "      <th>2</th>\n",
       "      <td>Middle East and North Africa</td>\n",
       "      <td>Libya</td>\n",
       "      <td>Baby Food</td>\n",
       "      <td>Offline</td>\n",
       "      <td>C</td>\n",
       "      <td>2016-10-31</td>\n",
       "      <td>246222341</td>\n",
       "      <td>2016-12-09</td>\n",
       "      <td>1517</td>\n",
       "      <td>255.28</td>\n",
       "      <td>159.42</td>\n",
       "      <td>387259.76</td>\n",
       "      <td>241840.14</td>\n",
       "      <td>145419.62</td>\n",
       "      <td>offlinecoupon_5%</td>\n",
       "      <td>0.05</td>\n",
       "      <td>3255</td>\n",
       "      <td>3216</td>\n",
       "      <td>Tripoli</td>\n",
       "    </tr>\n",
       "    <tr>\n",
       "      <th>3</th>\n",
       "      <td>Asia</td>\n",
       "      <td>Japan</td>\n",
       "      <td>Cereal</td>\n",
       "      <td>Offline</td>\n",
       "      <td>C</td>\n",
       "      <td>2010-04-10</td>\n",
       "      <td>161442649</td>\n",
       "      <td>2010-05-12</td>\n",
       "      <td>3322</td>\n",
       "      <td>205.70</td>\n",
       "      <td>117.11</td>\n",
       "      <td>683335.40</td>\n",
       "      <td>389039.42</td>\n",
       "      <td>294295.98</td>\n",
       "      <td>offlinecoupon_5%</td>\n",
       "      <td>0.05</td>\n",
       "      <td>5651</td>\n",
       "      <td>5619</td>\n",
       "      <td>Tokyo</td>\n",
       "    </tr>\n",
       "    <tr>\n",
       "      <th>4</th>\n",
       "      <td>Sub-Saharan Africa</td>\n",
       "      <td>Chad</td>\n",
       "      <td>Fruits</td>\n",
       "      <td>Offline</td>\n",
       "      <td>H</td>\n",
       "      <td>2011-08-16</td>\n",
       "      <td>645713555</td>\n",
       "      <td>2011-08-31</td>\n",
       "      <td>9845</td>\n",
       "      <td>9.33</td>\n",
       "      <td>6.92</td>\n",
       "      <td>91853.85</td>\n",
       "      <td>68127.40</td>\n",
       "      <td>23726.45</td>\n",
       "      <td>offlinecoupon_5%</td>\n",
       "      <td>0.05</td>\n",
       "      <td>5158</td>\n",
       "      <td>5143</td>\n",
       "      <td>N'Djamena</td>\n",
       "    </tr>\n",
       "  </tbody>\n",
       "</table>\n",
       "</div>"
      ],
      "text/plain": [
       "                         Region Country   Item Type Sales Channel  \\\n",
       "0  Middle East and North Africa   Libya   Cosmetics       Offline   \n",
       "1                 North America  Canada  Vegetables        Online   \n",
       "2  Middle East and North Africa   Libya   Baby Food       Offline   \n",
       "3                          Asia   Japan      Cereal       Offline   \n",
       "4            Sub-Saharan Africa    Chad      Fruits       Offline   \n",
       "\n",
       "  Order Priority Order Date   Order ID  Ship Date  Units Sold  Unit Price  \\\n",
       "0              M 2014-10-18  686800706 2014-10-31        8446      437.20   \n",
       "1              M 2011-11-07  185941302 2011-12-08        3018      154.06   \n",
       "2              C 2016-10-31  246222341 2016-12-09        1517      255.28   \n",
       "3              C 2010-04-10  161442649 2010-05-12        3322      205.70   \n",
       "4              H 2011-08-16  645713555 2011-08-31        9845        9.33   \n",
       "\n",
       "   Unit Cost  Total Revenue  Total Cost  Total Profit       coupon_code  \\\n",
       "0     263.33     3692591.20  2224085.18    1468506.02  offlinecoupon_5%   \n",
       "1      90.93      464953.08   274426.74     190526.34  onlinecoupon_10%   \n",
       "2     159.42      387259.76   241840.14     145419.62  offlinecoupon_5%   \n",
       "3     117.11      683335.40   389039.42     294295.98  offlinecoupon_5%   \n",
       "4       6.92       91853.85    68127.40      23726.45  offlinecoupon_5%   \n",
       "\n",
       "   discount_rates  days_since_purchase  days_since_ship shipping_city  \n",
       "0            0.05                 3999             3986       Tripoli  \n",
       "1            0.10                 5075             5044        Ottawa  \n",
       "2            0.05                 3255             3216       Tripoli  \n",
       "3            0.05                 5651             5619         Tokyo  \n",
       "4            0.05                 5158             5143     N'Djamena  "
      ]
     },
     "execution_count": 12,
     "metadata": {},
     "output_type": "execute_result"
    }
   ],
   "source": [
    "print (cl_df.info())\n",
    "cl_df.head(5)"
   ]
  },
  {
   "cell_type": "markdown",
   "id": "c2ab6f1a",
   "metadata": {},
   "source": [
    "| Field               | Type             | Description                                | Source                     |\n",
    "|---------------------|------------------|--------------------------------------------|----------------------------|\n",
    "| Region              | Object           | Sales region or geographic area            | Primary CSV                |\n",
    "| Country             | String           | Country                                    | Primary CSV                |\n",
    "| Item Type           | object           | Product Category                           | Primary CSV                |\n",
    "| Sales Channel       | object           | where sale occurred (Online/Offline)       | Primary CSV                |\n",
    "| Order Priority      | object           | Priority level (L/M/H/C)                   | Primary CSV                |\n",
    "| Order Date          | datetime64[ns]   | when the order was created                 | Primary CSV                |\n",
    "| Order ID            | int64            | Unique identifier                          | Primary CSV                |\n",
    "| Ship Date           | datetime64[ns]   | when the order was shipped                 | Primary CSV                |\n",
    "| Units Sold          | int64            | Quantity of units sold                     | Primary CSV                |\n",
    "| Unit Price          | float64          | Price of Unit                              | Primary CSV                |\n",
    "| Unit Cost           | float64          | Cost of Unit                               | Primary CSV                |\n",
    "| Total Revenue       | float64          | Unit Price * Units Sold                    | Primary CSV                |\n",
    "| Total Cost          | float64          | Unit Cost * Units Sold                     | Primary CSV                |\n",
    "| Total Profit        | float64          | Total Revenue - Total Cost                 | Primary CSV                |\n",
    "| coupon_code         | object           | Coupon code derived from Sales Channel     | Synthetic (rule) step8     |\n",
    "| discount_rates      | float64          | Numeric discount mapped from coupon_code   | Derived (coupon_code)      |\n",
    "| days_since_purchase | int64            | today - order date                         | Derived (calc)             |\n",
    "| days_since_ship     | int64            | today - ship date                          | Derived (calc)             |\n",
    "| shipping_city       | string           | Derived via Country -> Capital             | Secondary metadata file    |\n",
    "\n",
    "\n",
    "Secondary metadata : https://www.kaggle.com/datasets/nikitagrec/world-capitals-gps"
   ]
  }
 ],
 "metadata": {
  "kernelspec": {
   "display_name": ".venv",
   "language": "python",
   "name": "python3"
  },
  "language_info": {
   "codemirror_mode": {
    "name": "ipython",
    "version": 3
   },
   "file_extension": ".py",
   "mimetype": "text/x-python",
   "name": "python",
   "nbconvert_exporter": "python",
   "pygments_lexer": "ipython3",
   "version": "3.11.9"
  }
 },
 "nbformat": 4,
 "nbformat_minor": 5
}
